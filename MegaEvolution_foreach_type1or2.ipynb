{
 "cells": [
  {
   "cell_type": "code",
   "execution_count": 14,
   "id": "f6d92ccc",
   "metadata": {},
   "outputs": [],
   "source": [
    "import pandas as pd\n",
    "data = pd.read_csv('DataPreparation/Pokemon_mod_v1.csv')"
   ]
  },
  {
   "cell_type": "code",
   "execution_count": 29,
   "id": "ce02ecee",
   "metadata": {},
   "outputs": [
    {
     "data": {
      "text/plain": [
       "Type\n",
       "Bug          4\n",
       "Dark         6\n",
       "Dragon       9\n",
       "Electric     2\n",
       "Fairy        5\n",
       "Fighting     7\n",
       "Fire         5\n",
       "Flying       6\n",
       "Ghost        3\n",
       "Grass        4\n",
       "Ground       4\n",
       "Ice          2\n",
       "Normal       4\n",
       "Poison       3\n",
       "Psychic     10\n",
       "Rock         3\n",
       "Steel        6\n",
       "Water        5\n",
       "Name: count, dtype: int64"
      ]
     },
     "execution_count": 29,
     "metadata": {},
     "output_type": "execute_result"
    }
   ],
   "source": [
    "mega_data = data.loc[data['Name'].str.contains('Mega')]\n",
    "mega_data.reset_index(drop=True,inplace=True)\n",
    "mega_data = mega_data.assign(count=1)\n",
    "# print(mega_data.head(5))\n",
    "result = mega_data.groupby(['Type']).count()['count']\n",
    "result.to_excel('MegaEvolution_foreach_type1or2.xlsx')\n",
    "result"
   ]
  },
  {
   "cell_type": "code",
   "execution_count": 28,
   "id": "37871ca0",
   "metadata": {
    "scrolled": false
   },
   "outputs": [
    {
     "data": {
      "image/png": "[encoded data removed]",
      "text/plain": [
       "<Figure size 1080x504 with 1 Axes>"
      ]
     },
     "metadata": {
      "needs_background": "light"
     },
     "output_type": "display_data"
    }
   ],
   "source": [
    "import matplotlib.pyplot as plt\n",
    "Types = mega_data['Type'].unique()\n",
    "Types.sort()\n",
    "plt.figure(figsize=(15, 7))\n",
    "plt.bar(Types, result)\n",
    "plt.xlabel('Type')\n",
    "plt.ylabel('Number')\n",
    "plt.title(\"Mega Evolutions for each type\")\n",
    "for x,y in zip(Types,result):\n",
    "    label = \"{:.0f}\".format(y)\n",
    "    plt.annotate(label, # this is the text\n",
    "                 (x,y), # these are the coordinates to position the label\n",
    "                 textcoords=\"offset points\", # how to position the text\n",
    "                 xytext=(0,5), # distance from text to points (x,y)\n",
    "                 ha='center')\n",
    "\n",
    "plt.savefig('MegaEvolution_foreach_type1or2.pdf')\n",
    "plt.show()"
   ]
  }
 ],
 "metadata": {
  "kernelspec": {
   "display_name": "Python 3 (ipykernel)",
   "language": "python",
   "name": "python3"
  },
  "language_info": {
   "codemirror_mode": {
    "name": "ipython",
    "version": 3
   },
   "file_extension": ".py",
   "mimetype": "text/x-python",
   "name": "python",
   "nbconvert_exporter": "python",
   "pygments_lexer": "ipython3",
   "version": "3.9.12"
  }
 },
 "nbformat": 4,
 "nbformat_minor": 5
}
